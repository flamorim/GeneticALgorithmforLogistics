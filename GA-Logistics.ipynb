{
  "nbformat": 4,
  "nbformat_minor": 0,
  "metadata": {
    "colab": {
      "provenance": []
    },
    "kernelspec": {
      "name": "python3",
      "display_name": "Python 3"
    },
    "language_info": {
      "name": "python"
    },
    "accelerator": "GPU",
    "gpuClass": "standard"
  },
  "cells": [
    {
      "cell_type": "markdown",
      "source": [
        "Aluno Flavio Amorim\n",
        "\n",
        "Professora Carolina"
      ],
      "metadata": {
        "id": "hGHQD3wwu3Pg"
      }
    },
    {
      "cell_type": "markdown",
      "source": [
        "# Preparando o ambiente"
      ],
      "metadata": {
        "id": "RJcw6Nsk00op"
      }
    },
    {
      "cell_type": "code",
      "execution_count": 1,
      "metadata": {
        "id": "nrpd2uBJuxsZ",
        "colab": {
          "base_uri": "https://localhost:8080/"
        },
        "outputId": "aeeb5772-4a26-4220-fb69-4e99bd4247cf"
      },
      "outputs": [
        {
          "output_type": "stream",
          "name": "stdout",
          "text": [
            "Looking in indexes: https://pypi.org/simple, https://us-python.pkg.dev/colab-wheels/public/simple/\n",
            "Requirement already satisfied: deap in /usr/local/lib/python3.8/dist-packages (1.3.3)\n",
            "Requirement already satisfied: numpy in /usr/local/lib/python3.8/dist-packages (from deap) (1.21.6)\n"
          ]
        }
      ],
      "source": [
        "!pip install deap"
      ]
    },
    {
      "cell_type": "code",
      "source": [
        "import random\n",
        "\n",
        "import numpy\n",
        "\n",
        "from deap import algorithms\n",
        "from deap import base\n",
        "from deap import creator\n",
        "from deap import tools\n",
        "\n",
        "IND_INIT_SIZE = 5         # tamanho do individuo na inicializacao\n",
        "MAX_CUSTOMER = 10         # quantidade maxima de pedidos a serem tratados\n"
      ],
      "metadata": {
        "id": "WD_8vcCfu0xD"
      },
      "execution_count": 2,
      "outputs": []
    },
    {
      "cell_type": "code",
      "source": [
        "MAX_VALOR  = 500000  ### valor maximo transportado no \n",
        "MAX_VOLUME = 4500    ### volume maximo ocupado no caminhao\n",
        "MAX_HORAS = 6        ### nao pode trabalhar mais de 6 horas por dia"
      ],
      "metadata": {
        "id": "TFoy_2rbqzuw"
      },
      "execution_count": 3,
      "outputs": []
    },
    {
      "cell_type": "markdown",
      "source": [
        "# variaveis auxiliares (banco de dados) "
      ],
      "metadata": {
        "id": "SexAvDNyt3uQ"
      }
    },
    {
      "cell_type": "code",
      "source": [
        "import pandas as pd\n"
      ],
      "metadata": {
        "id": "3k_yJRi7uCfP"
      },
      "execution_count": 4,
      "outputs": []
    },
    {
      "cell_type": "code",
      "source": [
        "# iniciar as variaveis\n",
        "solicitacao_tabela = { 'id':     [0,1,2,3,4,5,6,7,8,9],                                             ## customer order id\n",
        "                       'urgente':[1,0,1,1,0,0,0,0,1,1],                                             ## indicativo de urgencia\n",
        "                       'new':    [0,1,1,0,1,1,1,1,0,0],                                             ## indicativo de cliente novo\n",
        "                       'valor':  [100000,10000,100,200000,400000,50000,10000,500,3000,10000],       ## value\n",
        "                       'volume': [1000, 2000,300,400,500,600,700,800,900,3000],                     ## volume\n",
        "                       'bairro': [1,2,3,4,5,6,7,8,9,1]}                                             ## area in town\n",
        "df_solicitacao = pd.DataFrame(solicitacao_tabela)\n",
        "df_solicitacao.head(10)"
      ],
      "metadata": {
        "colab": {
          "base_uri": "https://localhost:8080/",
          "height": 364
        },
        "id": "pZHme5Xmt2lz",
        "outputId": "a744bc65-c3d6-421d-d3c8-c98b7abaa70a"
      },
      "execution_count": 5,
      "outputs": [
        {
          "output_type": "execute_result",
          "data": {
            "text/plain": [
              "   id  urgente  new   valor  volume  bairro\n",
              "0   0        1    0  100000    1000       1\n",
              "1   1        0    1   10000    2000       2\n",
              "2   2        1    1     100     300       3\n",
              "3   3        1    0  200000     400       4\n",
              "4   4        0    1  400000     500       5\n",
              "5   5        0    1   50000     600       6\n",
              "6   6        0    1   10000     700       7\n",
              "7   7        0    1     500     800       8\n",
              "8   8        1    0    3000     900       9\n",
              "9   9        1    0   10000    3000       1"
            ],
            "text/html": [
              "\n",
              "  <div id=\"df-cc591b1a-c603-4ad1-8c6d-54e984a60766\">\n",
              "    <div class=\"colab-df-container\">\n",
              "      <div>\n",
              "<style scoped>\n",
              "    .dataframe tbody tr th:only-of-type {\n",
              "        vertical-align: middle;\n",
              "    }\n",
              "\n",
              "    .dataframe tbody tr th {\n",
              "        vertical-align: top;\n",
              "    }\n",
              "\n",
              "    .dataframe thead th {\n",
              "        text-align: right;\n",
              "    }\n",
              "</style>\n",
              "<table border=\"1\" class=\"dataframe\">\n",
              "  <thead>\n",
              "    <tr style=\"text-align: right;\">\n",
              "      <th></th>\n",
              "      <th>id</th>\n",
              "      <th>urgente</th>\n",
              "      <th>new</th>\n",
              "      <th>valor</th>\n",
              "      <th>volume</th>\n",
              "      <th>bairro</th>\n",
              "    </tr>\n",
              "  </thead>\n",
              "  <tbody>\n",
              "    <tr>\n",
              "      <th>0</th>\n",
              "      <td>0</td>\n",
              "      <td>1</td>\n",
              "      <td>0</td>\n",
              "      <td>100000</td>\n",
              "      <td>1000</td>\n",
              "      <td>1</td>\n",
              "    </tr>\n",
              "    <tr>\n",
              "      <th>1</th>\n",
              "      <td>1</td>\n",
              "      <td>0</td>\n",
              "      <td>1</td>\n",
              "      <td>10000</td>\n",
              "      <td>2000</td>\n",
              "      <td>2</td>\n",
              "    </tr>\n",
              "    <tr>\n",
              "      <th>2</th>\n",
              "      <td>2</td>\n",
              "      <td>1</td>\n",
              "      <td>1</td>\n",
              "      <td>100</td>\n",
              "      <td>300</td>\n",
              "      <td>3</td>\n",
              "    </tr>\n",
              "    <tr>\n",
              "      <th>3</th>\n",
              "      <td>3</td>\n",
              "      <td>1</td>\n",
              "      <td>0</td>\n",
              "      <td>200000</td>\n",
              "      <td>400</td>\n",
              "      <td>4</td>\n",
              "    </tr>\n",
              "    <tr>\n",
              "      <th>4</th>\n",
              "      <td>4</td>\n",
              "      <td>0</td>\n",
              "      <td>1</td>\n",
              "      <td>400000</td>\n",
              "      <td>500</td>\n",
              "      <td>5</td>\n",
              "    </tr>\n",
              "    <tr>\n",
              "      <th>5</th>\n",
              "      <td>5</td>\n",
              "      <td>0</td>\n",
              "      <td>1</td>\n",
              "      <td>50000</td>\n",
              "      <td>600</td>\n",
              "      <td>6</td>\n",
              "    </tr>\n",
              "    <tr>\n",
              "      <th>6</th>\n",
              "      <td>6</td>\n",
              "      <td>0</td>\n",
              "      <td>1</td>\n",
              "      <td>10000</td>\n",
              "      <td>700</td>\n",
              "      <td>7</td>\n",
              "    </tr>\n",
              "    <tr>\n",
              "      <th>7</th>\n",
              "      <td>7</td>\n",
              "      <td>0</td>\n",
              "      <td>1</td>\n",
              "      <td>500</td>\n",
              "      <td>800</td>\n",
              "      <td>8</td>\n",
              "    </tr>\n",
              "    <tr>\n",
              "      <th>8</th>\n",
              "      <td>8</td>\n",
              "      <td>1</td>\n",
              "      <td>0</td>\n",
              "      <td>3000</td>\n",
              "      <td>900</td>\n",
              "      <td>9</td>\n",
              "    </tr>\n",
              "    <tr>\n",
              "      <th>9</th>\n",
              "      <td>9</td>\n",
              "      <td>1</td>\n",
              "      <td>0</td>\n",
              "      <td>10000</td>\n",
              "      <td>3000</td>\n",
              "      <td>1</td>\n",
              "    </tr>\n",
              "  </tbody>\n",
              "</table>\n",
              "</div>\n",
              "      <button class=\"colab-df-convert\" onclick=\"convertToInteractive('df-cc591b1a-c603-4ad1-8c6d-54e984a60766')\"\n",
              "              title=\"Convert this dataframe to an interactive table.\"\n",
              "              style=\"display:none;\">\n",
              "        \n",
              "  <svg xmlns=\"http://www.w3.org/2000/svg\" height=\"24px\"viewBox=\"0 0 24 24\"\n",
              "       width=\"24px\">\n",
              "    <path d=\"M0 0h24v24H0V0z\" fill=\"none\"/>\n",
              "    <path d=\"M18.56 5.44l.94 2.06.94-2.06 2.06-.94-2.06-.94-.94-2.06-.94 2.06-2.06.94zm-11 1L8.5 8.5l.94-2.06 2.06-.94-2.06-.94L8.5 2.5l-.94 2.06-2.06.94zm10 10l.94 2.06.94-2.06 2.06-.94-2.06-.94-.94-2.06-.94 2.06-2.06.94z\"/><path d=\"M17.41 7.96l-1.37-1.37c-.4-.4-.92-.59-1.43-.59-.52 0-1.04.2-1.43.59L10.3 9.45l-7.72 7.72c-.78.78-.78 2.05 0 2.83L4 21.41c.39.39.9.59 1.41.59.51 0 1.02-.2 1.41-.59l7.78-7.78 2.81-2.81c.8-.78.8-2.07 0-2.86zM5.41 20L4 18.59l7.72-7.72 1.47 1.35L5.41 20z\"/>\n",
              "  </svg>\n",
              "      </button>\n",
              "      \n",
              "  <style>\n",
              "    .colab-df-container {\n",
              "      display:flex;\n",
              "      flex-wrap:wrap;\n",
              "      gap: 12px;\n",
              "    }\n",
              "\n",
              "    .colab-df-convert {\n",
              "      background-color: #E8F0FE;\n",
              "      border: none;\n",
              "      border-radius: 50%;\n",
              "      cursor: pointer;\n",
              "      display: none;\n",
              "      fill: #1967D2;\n",
              "      height: 32px;\n",
              "      padding: 0 0 0 0;\n",
              "      width: 32px;\n",
              "    }\n",
              "\n",
              "    .colab-df-convert:hover {\n",
              "      background-color: #E2EBFA;\n",
              "      box-shadow: 0px 1px 2px rgba(60, 64, 67, 0.3), 0px 1px 3px 1px rgba(60, 64, 67, 0.15);\n",
              "      fill: #174EA6;\n",
              "    }\n",
              "\n",
              "    [theme=dark] .colab-df-convert {\n",
              "      background-color: #3B4455;\n",
              "      fill: #D2E3FC;\n",
              "    }\n",
              "\n",
              "    [theme=dark] .colab-df-convert:hover {\n",
              "      background-color: #434B5C;\n",
              "      box-shadow: 0px 1px 3px 1px rgba(0, 0, 0, 0.15);\n",
              "      filter: drop-shadow(0px 1px 2px rgba(0, 0, 0, 0.3));\n",
              "      fill: #FFFFFF;\n",
              "    }\n",
              "  </style>\n",
              "\n",
              "      <script>\n",
              "        const buttonEl =\n",
              "          document.querySelector('#df-cc591b1a-c603-4ad1-8c6d-54e984a60766 button.colab-df-convert');\n",
              "        buttonEl.style.display =\n",
              "          google.colab.kernel.accessAllowed ? 'block' : 'none';\n",
              "\n",
              "        async function convertToInteractive(key) {\n",
              "          const element = document.querySelector('#df-cc591b1a-c603-4ad1-8c6d-54e984a60766');\n",
              "          const dataTable =\n",
              "            await google.colab.kernel.invokeFunction('convertToInteractive',\n",
              "                                                     [key], {});\n",
              "          if (!dataTable) return;\n",
              "\n",
              "          const docLinkHtml = 'Like what you see? Visit the ' +\n",
              "            '<a target=\"_blank\" href=https://colab.research.google.com/notebooks/data_table.ipynb>data table notebook</a>'\n",
              "            + ' to learn more about interactive tables.';\n",
              "          element.innerHTML = '';\n",
              "          dataTable['output_type'] = 'display_data';\n",
              "          await google.colab.output.renderOutput(dataTable, element);\n",
              "          const docLink = document.createElement('div');\n",
              "          docLink.innerHTML = docLinkHtml;\n",
              "          element.appendChild(docLink);\n",
              "        }\n",
              "      </script>\n",
              "    </div>\n",
              "  </div>\n",
              "  "
            ]
          },
          "metadata": {},
          "execution_count": 5
        }
      ]
    },
    {
      "cell_type": "code",
      "source": [
        "caminhao_tabela = { 'id':        [1,2],\n",
        "                    'opex':      [1000,5000],\n",
        "                    'capacidade':[500,5000]}\n",
        "df_caminhao = pd.DataFrame(caminhao_tabela)\n",
        "df_caminhao.head()"
      ],
      "metadata": {
        "colab": {
          "base_uri": "https://localhost:8080/",
          "height": 113
        },
        "id": "x-Zych_YuKnd",
        "outputId": "280455f3-c979-4725-f594-9d2ee1506117"
      },
      "execution_count": 6,
      "outputs": [
        {
          "output_type": "execute_result",
          "data": {
            "text/plain": [
              "   id  opex  capacidade\n",
              "0   1  1000         500\n",
              "1   2  5000        5000"
            ],
            "text/html": [
              "\n",
              "  <div id=\"df-5ea8e46a-2408-4d1f-b944-9214fdbfb354\">\n",
              "    <div class=\"colab-df-container\">\n",
              "      <div>\n",
              "<style scoped>\n",
              "    .dataframe tbody tr th:only-of-type {\n",
              "        vertical-align: middle;\n",
              "    }\n",
              "\n",
              "    .dataframe tbody tr th {\n",
              "        vertical-align: top;\n",
              "    }\n",
              "\n",
              "    .dataframe thead th {\n",
              "        text-align: right;\n",
              "    }\n",
              "</style>\n",
              "<table border=\"1\" class=\"dataframe\">\n",
              "  <thead>\n",
              "    <tr style=\"text-align: right;\">\n",
              "      <th></th>\n",
              "      <th>id</th>\n",
              "      <th>opex</th>\n",
              "      <th>capacidade</th>\n",
              "    </tr>\n",
              "  </thead>\n",
              "  <tbody>\n",
              "    <tr>\n",
              "      <th>0</th>\n",
              "      <td>1</td>\n",
              "      <td>1000</td>\n",
              "      <td>500</td>\n",
              "    </tr>\n",
              "    <tr>\n",
              "      <th>1</th>\n",
              "      <td>2</td>\n",
              "      <td>5000</td>\n",
              "      <td>5000</td>\n",
              "    </tr>\n",
              "  </tbody>\n",
              "</table>\n",
              "</div>\n",
              "      <button class=\"colab-df-convert\" onclick=\"convertToInteractive('df-5ea8e46a-2408-4d1f-b944-9214fdbfb354')\"\n",
              "              title=\"Convert this dataframe to an interactive table.\"\n",
              "              style=\"display:none;\">\n",
              "        \n",
              "  <svg xmlns=\"http://www.w3.org/2000/svg\" height=\"24px\"viewBox=\"0 0 24 24\"\n",
              "       width=\"24px\">\n",
              "    <path d=\"M0 0h24v24H0V0z\" fill=\"none\"/>\n",
              "    <path d=\"M18.56 5.44l.94 2.06.94-2.06 2.06-.94-2.06-.94-.94-2.06-.94 2.06-2.06.94zm-11 1L8.5 8.5l.94-2.06 2.06-.94-2.06-.94L8.5 2.5l-.94 2.06-2.06.94zm10 10l.94 2.06.94-2.06 2.06-.94-2.06-.94-.94-2.06-.94 2.06-2.06.94z\"/><path d=\"M17.41 7.96l-1.37-1.37c-.4-.4-.92-.59-1.43-.59-.52 0-1.04.2-1.43.59L10.3 9.45l-7.72 7.72c-.78.78-.78 2.05 0 2.83L4 21.41c.39.39.9.59 1.41.59.51 0 1.02-.2 1.41-.59l7.78-7.78 2.81-2.81c.8-.78.8-2.07 0-2.86zM5.41 20L4 18.59l7.72-7.72 1.47 1.35L5.41 20z\"/>\n",
              "  </svg>\n",
              "      </button>\n",
              "      \n",
              "  <style>\n",
              "    .colab-df-container {\n",
              "      display:flex;\n",
              "      flex-wrap:wrap;\n",
              "      gap: 12px;\n",
              "    }\n",
              "\n",
              "    .colab-df-convert {\n",
              "      background-color: #E8F0FE;\n",
              "      border: none;\n",
              "      border-radius: 50%;\n",
              "      cursor: pointer;\n",
              "      display: none;\n",
              "      fill: #1967D2;\n",
              "      height: 32px;\n",
              "      padding: 0 0 0 0;\n",
              "      width: 32px;\n",
              "    }\n",
              "\n",
              "    .colab-df-convert:hover {\n",
              "      background-color: #E2EBFA;\n",
              "      box-shadow: 0px 1px 2px rgba(60, 64, 67, 0.3), 0px 1px 3px 1px rgba(60, 64, 67, 0.15);\n",
              "      fill: #174EA6;\n",
              "    }\n",
              "\n",
              "    [theme=dark] .colab-df-convert {\n",
              "      background-color: #3B4455;\n",
              "      fill: #D2E3FC;\n",
              "    }\n",
              "\n",
              "    [theme=dark] .colab-df-convert:hover {\n",
              "      background-color: #434B5C;\n",
              "      box-shadow: 0px 1px 3px 1px rgba(0, 0, 0, 0.15);\n",
              "      filter: drop-shadow(0px 1px 2px rgba(0, 0, 0, 0.3));\n",
              "      fill: #FFFFFF;\n",
              "    }\n",
              "  </style>\n",
              "\n",
              "      <script>\n",
              "        const buttonEl =\n",
              "          document.querySelector('#df-5ea8e46a-2408-4d1f-b944-9214fdbfb354 button.colab-df-convert');\n",
              "        buttonEl.style.display =\n",
              "          google.colab.kernel.accessAllowed ? 'block' : 'none';\n",
              "\n",
              "        async function convertToInteractive(key) {\n",
              "          const element = document.querySelector('#df-5ea8e46a-2408-4d1f-b944-9214fdbfb354');\n",
              "          const dataTable =\n",
              "            await google.colab.kernel.invokeFunction('convertToInteractive',\n",
              "                                                     [key], {});\n",
              "          if (!dataTable) return;\n",
              "\n",
              "          const docLinkHtml = 'Like what you see? Visit the ' +\n",
              "            '<a target=\"_blank\" href=https://colab.research.google.com/notebooks/data_table.ipynb>data table notebook</a>'\n",
              "            + ' to learn more about interactive tables.';\n",
              "          element.innerHTML = '';\n",
              "          dataTable['output_type'] = 'display_data';\n",
              "          await google.colab.output.renderOutput(dataTable, element);\n",
              "          const docLink = document.createElement('div');\n",
              "          docLink.innerHTML = docLinkHtml;\n",
              "          element.appendChild(docLink);\n",
              "        }\n",
              "      </script>\n",
              "    </div>\n",
              "  </div>\n",
              "  "
            ]
          },
          "metadata": {},
          "execution_count": 6
        }
      ]
    },
    {
      "cell_type": "code",
      "source": [
        "distancia_tabela ={\n",
        "                    'destino': [0,  20, 10, 15, 20, 10, 5,  20, 40, 10],\n",
        "                    'dest1':   [20, 0,  5,  25, 25, 5,  25,  5, 10, 30],\n",
        "                    'dest2':   [10, 5,  0,  80, 30, 30, 40, 60, 50, 30],\n",
        "                    'dest3':   [15, 25, 80,  0, 15, 25, 60, 30, 30, 20],\n",
        "                    'dest4':   [20, 25, 30, 15, 0,  50, 20, 25, 15, 10],\n",
        "                    'dest5':   [10, 5,  30, 25, 50, 0,  20, 40, 40, 50],\n",
        "                    'dest6':   [5,  25, 40, 60, 20, 20,  0, 40, 20, 30],\n",
        "                    'dest7':   [20, 5,  60, 30, 25, 40, 40,  0, 50, 30],\n",
        "                    'dest8':   [40, 10, 50, 30, 15, 40, 20, 50,  0, 20],\n",
        "                    'dest9':  [10, 30, 30, 20, 10, 50, 30, 30, 20,  0]}\n",
        "\n",
        "df_distancia = pd.DataFrame(distancia_tabela)\n",
        "df_distancia\n"
      ],
      "metadata": {
        "colab": {
          "base_uri": "https://localhost:8080/",
          "height": 364
        },
        "id": "y_56RxdFuPPz",
        "outputId": "a0380458-d9f4-476e-caac-1af5007760ec"
      },
      "execution_count": 8,
      "outputs": [
        {
          "output_type": "execute_result",
          "data": {
            "text/plain": [
              "   destino  dest1  dest2  dest3  dest4  dest5  dest6  dest7  dest8  dest9\n",
              "0        0     20     10     15     20     10      5     20     40     10\n",
              "1       20      0      5     25     25      5     25      5     10     30\n",
              "2       10      5      0     80     30     30     40     60     50     30\n",
              "3       15     25     80      0     15     25     60     30     30     20\n",
              "4       20     25     30     15      0     50     20     25     15     10\n",
              "5       10      5     30     25     50      0     20     40     40     50\n",
              "6        5     25     40     60     20     20      0     40     20     30\n",
              "7       20      5     60     30     25     40     40      0     50     30\n",
              "8       40     10     50     30     15     40     20     50      0     20\n",
              "9       10     30     30     20     10     50     30     30     20      0"
            ],
            "text/html": [
              "\n",
              "  <div id=\"df-7d0cf2cc-bbd3-42a4-9bc6-bb40efe9c6dc\">\n",
              "    <div class=\"colab-df-container\">\n",
              "      <div>\n",
              "<style scoped>\n",
              "    .dataframe tbody tr th:only-of-type {\n",
              "        vertical-align: middle;\n",
              "    }\n",
              "\n",
              "    .dataframe tbody tr th {\n",
              "        vertical-align: top;\n",
              "    }\n",
              "\n",
              "    .dataframe thead th {\n",
              "        text-align: right;\n",
              "    }\n",
              "</style>\n",
              "<table border=\"1\" class=\"dataframe\">\n",
              "  <thead>\n",
              "    <tr style=\"text-align: right;\">\n",
              "      <th></th>\n",
              "      <th>destino</th>\n",
              "      <th>dest1</th>\n",
              "      <th>dest2</th>\n",
              "      <th>dest3</th>\n",
              "      <th>dest4</th>\n",
              "      <th>dest5</th>\n",
              "      <th>dest6</th>\n",
              "      <th>dest7</th>\n",
              "      <th>dest8</th>\n",
              "      <th>dest9</th>\n",
              "    </tr>\n",
              "  </thead>\n",
              "  <tbody>\n",
              "    <tr>\n",
              "      <th>0</th>\n",
              "      <td>0</td>\n",
              "      <td>20</td>\n",
              "      <td>10</td>\n",
              "      <td>15</td>\n",
              "      <td>20</td>\n",
              "      <td>10</td>\n",
              "      <td>5</td>\n",
              "      <td>20</td>\n",
              "      <td>40</td>\n",
              "      <td>10</td>\n",
              "    </tr>\n",
              "    <tr>\n",
              "      <th>1</th>\n",
              "      <td>20</td>\n",
              "      <td>0</td>\n",
              "      <td>5</td>\n",
              "      <td>25</td>\n",
              "      <td>25</td>\n",
              "      <td>5</td>\n",
              "      <td>25</td>\n",
              "      <td>5</td>\n",
              "      <td>10</td>\n",
              "      <td>30</td>\n",
              "    </tr>\n",
              "    <tr>\n",
              "      <th>2</th>\n",
              "      <td>10</td>\n",
              "      <td>5</td>\n",
              "      <td>0</td>\n",
              "      <td>80</td>\n",
              "      <td>30</td>\n",
              "      <td>30</td>\n",
              "      <td>40</td>\n",
              "      <td>60</td>\n",
              "      <td>50</td>\n",
              "      <td>30</td>\n",
              "    </tr>\n",
              "    <tr>\n",
              "      <th>3</th>\n",
              "      <td>15</td>\n",
              "      <td>25</td>\n",
              "      <td>80</td>\n",
              "      <td>0</td>\n",
              "      <td>15</td>\n",
              "      <td>25</td>\n",
              "      <td>60</td>\n",
              "      <td>30</td>\n",
              "      <td>30</td>\n",
              "      <td>20</td>\n",
              "    </tr>\n",
              "    <tr>\n",
              "      <th>4</th>\n",
              "      <td>20</td>\n",
              "      <td>25</td>\n",
              "      <td>30</td>\n",
              "      <td>15</td>\n",
              "      <td>0</td>\n",
              "      <td>50</td>\n",
              "      <td>20</td>\n",
              "      <td>25</td>\n",
              "      <td>15</td>\n",
              "      <td>10</td>\n",
              "    </tr>\n",
              "    <tr>\n",
              "      <th>5</th>\n",
              "      <td>10</td>\n",
              "      <td>5</td>\n",
              "      <td>30</td>\n",
              "      <td>25</td>\n",
              "      <td>50</td>\n",
              "      <td>0</td>\n",
              "      <td>20</td>\n",
              "      <td>40</td>\n",
              "      <td>40</td>\n",
              "      <td>50</td>\n",
              "    </tr>\n",
              "    <tr>\n",
              "      <th>6</th>\n",
              "      <td>5</td>\n",
              "      <td>25</td>\n",
              "      <td>40</td>\n",
              "      <td>60</td>\n",
              "      <td>20</td>\n",
              "      <td>20</td>\n",
              "      <td>0</td>\n",
              "      <td>40</td>\n",
              "      <td>20</td>\n",
              "      <td>30</td>\n",
              "    </tr>\n",
              "    <tr>\n",
              "      <th>7</th>\n",
              "      <td>20</td>\n",
              "      <td>5</td>\n",
              "      <td>60</td>\n",
              "      <td>30</td>\n",
              "      <td>25</td>\n",
              "      <td>40</td>\n",
              "      <td>40</td>\n",
              "      <td>0</td>\n",
              "      <td>50</td>\n",
              "      <td>30</td>\n",
              "    </tr>\n",
              "    <tr>\n",
              "      <th>8</th>\n",
              "      <td>40</td>\n",
              "      <td>10</td>\n",
              "      <td>50</td>\n",
              "      <td>30</td>\n",
              "      <td>15</td>\n",
              "      <td>40</td>\n",
              "      <td>20</td>\n",
              "      <td>50</td>\n",
              "      <td>0</td>\n",
              "      <td>20</td>\n",
              "    </tr>\n",
              "    <tr>\n",
              "      <th>9</th>\n",
              "      <td>10</td>\n",
              "      <td>30</td>\n",
              "      <td>30</td>\n",
              "      <td>20</td>\n",
              "      <td>10</td>\n",
              "      <td>50</td>\n",
              "      <td>30</td>\n",
              "      <td>30</td>\n",
              "      <td>20</td>\n",
              "      <td>0</td>\n",
              "    </tr>\n",
              "  </tbody>\n",
              "</table>\n",
              "</div>\n",
              "      <button class=\"colab-df-convert\" onclick=\"convertToInteractive('df-7d0cf2cc-bbd3-42a4-9bc6-bb40efe9c6dc')\"\n",
              "              title=\"Convert this dataframe to an interactive table.\"\n",
              "              style=\"display:none;\">\n",
              "        \n",
              "  <svg xmlns=\"http://www.w3.org/2000/svg\" height=\"24px\"viewBox=\"0 0 24 24\"\n",
              "       width=\"24px\">\n",
              "    <path d=\"M0 0h24v24H0V0z\" fill=\"none\"/>\n",
              "    <path d=\"M18.56 5.44l.94 2.06.94-2.06 2.06-.94-2.06-.94-.94-2.06-.94 2.06-2.06.94zm-11 1L8.5 8.5l.94-2.06 2.06-.94-2.06-.94L8.5 2.5l-.94 2.06-2.06.94zm10 10l.94 2.06.94-2.06 2.06-.94-2.06-.94-.94-2.06-.94 2.06-2.06.94z\"/><path d=\"M17.41 7.96l-1.37-1.37c-.4-.4-.92-.59-1.43-.59-.52 0-1.04.2-1.43.59L10.3 9.45l-7.72 7.72c-.78.78-.78 2.05 0 2.83L4 21.41c.39.39.9.59 1.41.59.51 0 1.02-.2 1.41-.59l7.78-7.78 2.81-2.81c.8-.78.8-2.07 0-2.86zM5.41 20L4 18.59l7.72-7.72 1.47 1.35L5.41 20z\"/>\n",
              "  </svg>\n",
              "      </button>\n",
              "      \n",
              "  <style>\n",
              "    .colab-df-container {\n",
              "      display:flex;\n",
              "      flex-wrap:wrap;\n",
              "      gap: 12px;\n",
              "    }\n",
              "\n",
              "    .colab-df-convert {\n",
              "      background-color: #E8F0FE;\n",
              "      border: none;\n",
              "      border-radius: 50%;\n",
              "      cursor: pointer;\n",
              "      display: none;\n",
              "      fill: #1967D2;\n",
              "      height: 32px;\n",
              "      padding: 0 0 0 0;\n",
              "      width: 32px;\n",
              "    }\n",
              "\n",
              "    .colab-df-convert:hover {\n",
              "      background-color: #E2EBFA;\n",
              "      box-shadow: 0px 1px 2px rgba(60, 64, 67, 0.3), 0px 1px 3px 1px rgba(60, 64, 67, 0.15);\n",
              "      fill: #174EA6;\n",
              "    }\n",
              "\n",
              "    [theme=dark] .colab-df-convert {\n",
              "      background-color: #3B4455;\n",
              "      fill: #D2E3FC;\n",
              "    }\n",
              "\n",
              "    [theme=dark] .colab-df-convert:hover {\n",
              "      background-color: #434B5C;\n",
              "      box-shadow: 0px 1px 3px 1px rgba(0, 0, 0, 0.15);\n",
              "      filter: drop-shadow(0px 1px 2px rgba(0, 0, 0, 0.3));\n",
              "      fill: #FFFFFF;\n",
              "    }\n",
              "  </style>\n",
              "\n",
              "      <script>\n",
              "        const buttonEl =\n",
              "          document.querySelector('#df-7d0cf2cc-bbd3-42a4-9bc6-bb40efe9c6dc button.colab-df-convert');\n",
              "        buttonEl.style.display =\n",
              "          google.colab.kernel.accessAllowed ? 'block' : 'none';\n",
              "\n",
              "        async function convertToInteractive(key) {\n",
              "          const element = document.querySelector('#df-7d0cf2cc-bbd3-42a4-9bc6-bb40efe9c6dc');\n",
              "          const dataTable =\n",
              "            await google.colab.kernel.invokeFunction('convertToInteractive',\n",
              "                                                     [key], {});\n",
              "          if (!dataTable) return;\n",
              "\n",
              "          const docLinkHtml = 'Like what you see? Visit the ' +\n",
              "            '<a target=\"_blank\" href=https://colab.research.google.com/notebooks/data_table.ipynb>data table notebook</a>'\n",
              "            + ' to learn more about interactive tables.';\n",
              "          element.innerHTML = '';\n",
              "          dataTable['output_type'] = 'display_data';\n",
              "          await google.colab.output.renderOutput(dataTable, element);\n",
              "          const docLink = document.createElement('div');\n",
              "          docLink.innerHTML = docLinkHtml;\n",
              "          element.appendChild(docLink);\n",
              "        }\n",
              "      </script>\n",
              "    </div>\n",
              "  </div>\n",
              "  "
            ]
          },
          "metadata": {},
          "execution_count": 8
        }
      ]
    },
    {
      "cell_type": "code",
      "source": [
        "fator_velocidade   = 25       ## velocidade media é 25km/hora\n",
        "fator_custo   = 20            ## R$20,00 por km rodado\n",
        "fator_seguro  = 0.1           ## seguro custa 10% do valor transportado\n",
        "centro_distribuicao = 0       ## centro de distribuicao é a localidade 0 "
      ],
      "metadata": {
        "id": "RcppEyGDuTFc"
      },
      "execution_count": 9,
      "outputs": []
    },
    {
      "cell_type": "markdown",
      "source": [
        "# Iniciando a estrutura de GA"
      ],
      "metadata": {
        "id": "YI-BLiOw0BsF"
      }
    },
    {
      "cell_type": "code",
      "source": [
        "def funcao_objetivo(individual):\n",
        "    val = 0.0          ## valor transportado\n",
        "    custo = 0.0        ## custo para empresa  - MINIMIZAR\n",
        "    volume = 0.0       ## volume a transportar - MAXIMIZAR\n",
        "    HORAS = 0.0        ## nao pode exceder 8hs\n",
        "\n",
        "    ##variáveis auxiliares \n",
        "    distancia = 0.0\n",
        "    ponto_a = 99\n",
        "    ponto_b = 99\n",
        "    for idx,item in enumerate(individual):\n",
        "        val += int(df_solicitacao[df_solicitacao.id == int(item)]['valor'])\n",
        "        volume += int(df_solicitacao[df_solicitacao.id == int(item)]['volume'])\n",
        "\n",
        "        if idx == 0:                      ## no inicio da jornada a origem é o CD\n",
        "            ponto_a = 0\n",
        "        if idx == len(individual)-1:      ## no final da jornada, o destino é o CD\n",
        "            ponto_b = 0  \n",
        "        else:    \n",
        "            ponto_b = int(df_solicitacao[df_solicitacao.id == item]['bairro'])\n",
        "\n",
        "        distancia += df_distancia.iloc[ponto_a,ponto_b]\n",
        "        ponto_a = ponto_b                ## no proximo pickup, o local de origem é o destino do anterior\n",
        "    \n",
        "    custo_deslocamento = distancia * fator_custo\n",
        "    custo_seguro = val * fator_seguro\n",
        "    custo_opex = 0\n",
        "    custo = custo_deslocamento + custo_seguro + custo_opex\n",
        "\n",
        "    horas = distancia / fator_velocidade\n",
        "\n",
        "    if len(individual) > MAX_CUSTOMER or volume > MAX_VOLUME or horas > MAX_HORAS:     ### se extrapolou essas 3 restricoes\n",
        "        return 100000, 0                                                   ###penalizo com  custo elevado e volume de carga = 0\n",
        "\n",
        "    return custo, volume\n",
        "\n",
        "def cxSet(ind1, ind2):\n",
        "    \"\"\"Apply a crossover operation on input sets. The first child is the\n",
        "    intersection of the two sets, the second child is the difference of the\n",
        "    two sets.\n",
        "    \"\"\"\n",
        "    temp = set(ind1)                # Used in order to keep type\n",
        "    ind1 &= ind2                    # Intersection (inplace)\n",
        "    ind2 ^= temp                    # Symmetric Difference (inplace)\n",
        "    return ind1, ind2\n",
        "\n",
        "def mutSet(individual):\n",
        "    \"\"\"Mutation that pops or add an element.\"\"\"\n",
        "    if random.random() < 0.5:\n",
        "        if len(individual) > 0:     # We cannot pop from an empty set\n",
        "            individual.remove(random.choice(sorted(tuple(individual))))\n",
        "    else:\n",
        "        individual.add(random.randrange(MAX_CUSTOMER))  # aqui\n",
        "    return individual,"
      ],
      "metadata": {
        "id": "UywxRHpTvL7n"
      },
      "execution_count": 10,
      "outputs": []
    },
    {
      "cell_type": "markdown",
      "source": [
        "#Restricoes"
      ],
      "metadata": {
        "id": "tyW33qEbyQFe"
      }
    },
    {
      "cell_type": "code",
      "source": [
        "# Avaliando validade do indivíduo\n",
        "\n",
        "def feasible_new(individual):\n",
        "    new = 0.0\n",
        "    for item in individual:\n",
        "        new += int(df_solicitacao[df_solicitacao.id == int(item)]['new'])\n",
        "    if new < MAX_CUSTOMER:                # nem todos sao novos\n",
        "        return True                   \n",
        "                                      \n",
        "    return False\n"
      ],
      "metadata": {
        "id": "xHY4qy_kyFOc"
      },
      "execution_count": 11,
      "outputs": []
    },
    {
      "cell_type": "code",
      "source": [
        "def feasible_urgencia(individual):\n",
        "    urgencia = 0.0\n",
        "    for item in individual:\n",
        "        urgencia += int(df_solicitacao[df_solicitacao.id == int(item)]['urgente'])\n",
        "    if urgencia == 0:                # nao atendeu urgencia\n",
        "        return False                   \n",
        "                                      \n",
        "    return True"
      ],
      "metadata": {
        "id": "8--qRvn6kcQn"
      },
      "execution_count": 12,
      "outputs": []
    },
    {
      "cell_type": "markdown",
      "source": [
        "# Criando a estrutura GA"
      ],
      "metadata": {
        "id": "cp1LPx200RcD"
      }
    },
    {
      "cell_type": "code",
      "source": [
        "creator.create(\"Fitness\", base.Fitness, weights=(-1.0, 1.0))           \n",
        "                                                                       ### custo total:         minimizar\n",
        "                                                                       ### valor transportado:  maximizar\n",
        "                                                                       \n",
        "creator.create(\"Individual\", set, fitness=creator.Fitness)\n",
        "\n",
        "toolbox = base.Toolbox()\n",
        "\n",
        "# Attribute generator\n",
        "toolbox.register(\"attr_item\", random.randrange, MAX_CUSTOMER)             ### gerador randomico   aqui\n",
        "\n",
        "# Structure initializers\n",
        "toolbox.register(\"individual\", tools.initRepeat, creator.Individual, toolbox.attr_item, IND_INIT_SIZE)\n",
        "toolbox.register(\"population\", tools.initRepeat, list, toolbox.individual)"
      ],
      "metadata": {
        "id": "WyLVDAJa6tsF"
      },
      "execution_count": 13,
      "outputs": []
    },
    {
      "cell_type": "code",
      "source": [
        "toolbox.register(\"evaluate\", funcao_objetivo)\n",
        "toolbox.decorate('evaluate', tools.DeltaPenalty(feasible_urgencia, (10000,-10000))) # deixou de atender pedidos com urgencia \n",
        "toolbox.decorate('evaluate', tools.DeltaPenalty(feasible_new, (10000,-10000)))  \n",
        "toolbox.register(\"mate\", cxSet)\n",
        "toolbox.register(\"mutate\", mutSet)\n",
        "toolbox.register(\"select\", tools.selNSGA2)"
      ],
      "metadata": {
        "id": "x0KnpvUUvQfx"
      },
      "execution_count": 14,
      "outputs": []
    },
    {
      "cell_type": "code",
      "source": [
        "def main():\n",
        "    random.seed(64)\n",
        "    NGEN = 75\n",
        "    MU = 50\n",
        "    LAMBDA = 100\n",
        "    CXPB = 0.8\n",
        "    MUTPB = 0.2\n",
        "\n",
        "    pop = toolbox.population(n=MU)\n",
        "    hof = tools.ParetoFront()\n",
        "    stats = tools.Statistics(lambda ind: ind.fitness.values)\n",
        "    stats.register(\"avg\", numpy.mean, axis=0)\n",
        "    stats.register(\"std\", numpy.std, axis=0)\n",
        "    stats.register(\"min\", numpy.min, axis=0)\n",
        "    stats.register(\"max\", numpy.max, axis=0)\n",
        "\n",
        "    algorithms.eaMuPlusLambda(pop, toolbox, MU, LAMBDA, CXPB, MUTPB, NGEN, stats,\n",
        "                              halloffame=hof,verbose=True)\n",
        "\n",
        "    return pop, stats, hof"
      ],
      "metadata": {
        "id": "pxuL1srvvU55"
      },
      "execution_count": 34,
      "outputs": []
    },
    {
      "cell_type": "code",
      "source": [
        "if __name__ == \"__main__\":\n",
        "    id_caminhao = int(df_caminhao[df_caminhao.id==1]['id'])  \t##id \topex \tcapacidade\n",
        "    p, s, h = main()    "
      ],
      "metadata": {
        "colab": {
          "base_uri": "https://localhost:8080/"
        },
        "id": "csBPg9GYvYqm",
        "outputId": "6445304a-1648-4a99-b9c5-f9d35e6234ac"
      },
      "execution_count": 35,
      "outputs": [
        {
          "output_type": "stream",
          "name": "stdout",
          "text": [
            "gen\tnevals\tavg            \tstd                            \tmin              \tmax              \n",
            "0  \t50    \t[59193.  1350.]\t[34874.96639425  2751.38147119]\t[  2960. -10000.]\t[100000.   4300.]\n",
            "1  \t100   \t[18354.2  2658. ]\t[15633.09516251  1007.39068886]\t[ 10. 300.]      \t[53910.  4300.]  \n",
            "2  \t100   \t[5914.8 1812. ]  \t[10362.7703323   1406.36268437]\t[ 10. 300.]      \t[37500.  4300.]  \n",
            "3  \t100   \t[1815.4  874. ]  \t[6698.96535593 1082.55438662]  \t[ 10. 300.]      \t[33100.  4300.]  \n",
            "4  \t100   \t[1806.6  834. ]  \t[6701.83873575 1094.82601357]  \t[ 10. 300.]      \t[33100.  4300.]  \n",
            "5  \t100   \t[1806.6  834. ]  \t[6701.83873575 1094.82601357]  \t[ 10. 300.]      \t[33100.  4300.]  \n",
            "6  \t100   \t[1806.6  834. ]  \t[6701.83873575 1094.82601357]  \t[ 10. 300.]      \t[33100.  4300.]  \n",
            "7  \t100   \t[1806.6  834. ]  \t[6701.83873575 1094.82601357]  \t[ 10. 300.]      \t[33100.  4300.]  \n",
            "8  \t100   \t[2468.4  914. ]  \t[7999.85283865 1194.48901209]  \t[ 10. 300.]      \t[33100.  4300.]  \n",
            "9  \t100   \t[3792. 1074.]    \t[9976.7617993  1358.20616992]  \t[ 10. 300.]      \t[33100.  4300.]  \n",
            "10 \t100   \t[4080. 1148.]    \t[10070.82916149  1413.68171807]\t[ 10. 300.]      \t[33100.  4300.]  \n",
            "11 \t100   \t[4113.8 1220. ]  \t[10059.94272151  1459.58898324]\t[ 10. 300.]      \t[33100.  4300.]  \n",
            "12 \t100   \t[1218.4  874. ]  \t[4140.74696643 1163.23858258]  \t[ 10. 300.]      \t[22500.  4300.]  \n",
            "13 \t100   \t[1218.4  874. ]  \t[4140.74696643 1163.23858258]  \t[ 10. 300.]      \t[22500.  4300.]  \n",
            "14 \t100   \t[1218.4  874. ]  \t[4140.74696643 1163.23858258]  \t[ 10. 300.]      \t[22500.  4300.]  \n",
            "15 \t100   \t[1218.4  874. ]  \t[4140.74696643 1163.23858258]  \t[ 10. 300.]      \t[22500.  4300.]  \n",
            "16 \t100   \t[1668.2  954. ]  \t[5096.31148577 1254.94382344]  \t[ 10. 300.]      \t[22500.  4300.]  \n",
            "17 \t100   \t[1668.2  954. ]  \t[5096.31148577 1254.94382344]  \t[ 10. 300.]      \t[22500.  4300.]  \n",
            "18 \t100   \t[1668.2  954. ]  \t[5096.31148577 1254.94382344]  \t[ 10. 300.]      \t[22500.  4300.]  \n",
            "19 \t100   \t[1668.2  954. ]  \t[5096.31148577 1254.94382344]  \t[ 10. 300.]      \t[22500.  4300.]  \n",
            "20 \t100   \t[1668.2  954. ]  \t[5096.31148577 1254.94382344]  \t[ 10. 300.]      \t[22500.  4300.]  \n",
            "21 \t100   \t[1688. 1008.]    \t[5091.75176143 1283.4079632 ]  \t[ 10. 300.]      \t[22500.  4300.]  \n",
            "22 \t100   \t[1157.  936.]    \t[4385.52858844 1218.64843167]  \t[ 10. 300.]      \t[22500.  4300.]  \n",
            "23 \t100   \t[1157.  936.]    \t[4385.52858844 1218.64843167]  \t[ 10. 300.]      \t[22500.  4300.]  \n",
            "24 \t100   \t[2006.8 1018. ]  \t[7257.35914503 1307.77521004]  \t[ 10. 300.]      \t[42500.  4400.]  \n",
            "25 \t100   \t[2051.8 1094. ]  \t[7251.81182602 1372.64853477]  \t[ 10. 300.]      \t[42500.  4400.]  \n",
            "26 \t100   \t[2051.8 1094. ]  \t[7251.81182602 1372.64853477]  \t[ 10. 300.]      \t[42500.  4400.]  \n",
            "27 \t100   \t[2051.8 1094. ]  \t[7251.81182602 1372.64853477]  \t[ 10. 300.]      \t[42500.  4400.]  \n",
            "28 \t100   \t[2051.8 1094. ]  \t[7251.81182602 1372.64853477]  \t[ 10. 300.]      \t[42500.  4400.]  \n",
            "29 \t100   \t[2051.8 1094. ]  \t[7251.81182602 1372.64853477]  \t[ 10. 300.]      \t[42500.  4400.]  \n",
            "30 \t100   \t[2051.8 1094. ]  \t[7251.81182602 1372.64853477]  \t[ 10. 300.]      \t[42500.  4400.]  \n",
            "31 \t100   \t[452.2 936. ]    \t[1159.38654469 1219.30471991]  \t[ 10. 300.]      \t[7500. 4500.]    \n",
            "32 \t100   \t[452.2 936. ]    \t[1159.38654469 1219.30471991]  \t[ 10. 300.]      \t[7500. 4500.]    \n",
            "33 \t100   \t[452.2 936. ]    \t[1159.38654469 1219.30471991]  \t[ 10. 300.]      \t[7500. 4500.]    \n",
            "34 \t100   \t[452.2 936. ]    \t[1159.38654469 1219.30471991]  \t[ 10. 300.]      \t[7500. 4500.]    \n",
            "35 \t100   \t[452.2 936. ]    \t[1159.38654469 1219.30471991]  \t[ 10. 300.]      \t[7500. 4500.]    \n",
            "36 \t100   \t[452.2 936. ]    \t[1159.38654469 1219.30471991]  \t[ 10. 300.]      \t[7500. 4500.]    \n",
            "37 \t100   \t[452.2 936. ]    \t[1159.38654469 1219.30471991]  \t[ 10. 300.]      \t[7500. 4500.]    \n",
            "38 \t100   \t[452.2 936. ]    \t[1159.38654469 1219.30471991]  \t[ 10. 300.]      \t[7500. 4500.]    \n",
            "39 \t100   \t[452.2 936. ]    \t[1159.38654469 1219.30471991]  \t[ 10. 300.]      \t[7500. 4500.]    \n",
            "40 \t100   \t[ 602. 1020.]    \t[1520.28155287 1313.62094989]  \t[ 10. 300.]      \t[7500. 4500.]    \n",
            "41 \t100   \t[ 602. 1020.]    \t[1520.28155287 1313.62094989]  \t[ 10. 300.]      \t[7500. 4500.]    \n",
            "42 \t100   \t[ 602. 1020.]    \t[1520.28155287 1313.62094989]  \t[ 10. 300.]      \t[7500. 4500.]    \n",
            "43 \t100   \t[ 602. 1020.]    \t[1520.28155287 1313.62094989]  \t[ 10. 300.]      \t[7500. 4500.]    \n",
            "44 \t100   \t[ 652. 1098.]    \t[1540.95944139 1382.53245893]  \t[ 10. 300.]      \t[7500. 4500.]    \n",
            "45 \t100   \t[ 652. 1098.]    \t[1540.95944139 1382.53245893]  \t[ 10. 300.]      \t[7500. 4500.]    \n",
            "46 \t100   \t[ 652. 1098.]    \t[1540.95944139 1382.53245893]  \t[ 10. 300.]      \t[7500. 4500.]    \n",
            "47 \t100   \t[ 702. 1176.]    \t[1559.76152023 1443.96121832]  \t[ 10. 300.]      \t[7500. 4500.]    \n",
            "48 \t100   \t[ 702. 1176.]    \t[1559.76152023 1443.96121832]  \t[ 10. 300.]      \t[7500. 4500.]    \n",
            "49 \t100   \t[ 702. 1176.]    \t[1559.76152023 1443.96121832]  \t[ 10. 300.]      \t[7500. 4500.]    \n",
            "50 \t100   \t[ 702. 1176.]    \t[1559.76152023 1443.96121832]  \t[ 10. 300.]      \t[7500. 4500.]    \n",
            "51 \t100   \t[ 702. 1176.]    \t[1559.76152023 1443.96121832]  \t[ 10. 300.]      \t[7500. 4500.]    \n",
            "52 \t100   \t[ 702. 1176.]    \t[1559.76152023 1443.96121832]  \t[ 10. 300.]      \t[7500. 4500.]    \n",
            "53 \t100   \t[ 702. 1176.]    \t[1559.76152023 1443.96121832]  \t[ 10. 300.]      \t[7500. 4500.]    \n",
            "54 \t100   \t[ 702. 1176.]    \t[1559.76152023 1443.96121832]  \t[ 10. 300.]      \t[7500. 4500.]    \n",
            "55 \t100   \t[ 702. 1176.]    \t[1559.76152023 1443.96121832]  \t[ 10. 300.]      \t[7500. 4500.]    \n",
            "56 \t100   \t[ 702. 1176.]    \t[1559.76152023 1443.96121832]  \t[ 10. 300.]      \t[7500. 4500.]    \n",
            "57 \t100   \t[ 702. 1176.]    \t[1559.76152023 1443.96121832]  \t[ 10. 300.]      \t[7500. 4500.]    \n",
            "58 \t100   \t[ 702. 1176.]    \t[1559.76152023 1443.96121832]  \t[ 10. 300.]      \t[7500. 4500.]    \n",
            "59 \t100   \t[ 702. 1176.]    \t[1559.76152023 1443.96121832]  \t[ 10. 300.]      \t[7500. 4500.]    \n",
            "60 \t100   \t[ 702. 1176.]    \t[1559.76152023 1443.96121832]  \t[ 10. 300.]      \t[7500. 4500.]    \n",
            "61 \t100   \t[ 702. 1176.]    \t[1559.76152023 1443.96121832]  \t[ 10. 300.]      \t[7500. 4500.]    \n",
            "62 \t100   \t[ 702. 1176.]    \t[1559.76152023 1443.96121832]  \t[ 10. 300.]      \t[7500. 4500.]    \n",
            "63 \t100   \t[ 702. 1176.]    \t[1559.76152023 1443.96121832]  \t[ 10. 300.]      \t[7500. 4500.]    \n",
            "64 \t100   \t[ 702. 1176.]    \t[1559.76152023 1443.96121832]  \t[ 10. 300.]      \t[7500. 4500.]    \n",
            "65 \t100   \t[ 702. 1176.]    \t[1559.76152023 1443.96121832]  \t[ 10. 300.]      \t[7500. 4500.]    \n",
            "66 \t100   \t[ 702. 1176.]    \t[1559.76152023 1443.96121832]  \t[ 10. 300.]      \t[7500. 4500.]    \n",
            "67 \t100   \t[ 702. 1176.]    \t[1559.76152023 1443.96121832]  \t[ 10. 300.]      \t[7500. 4500.]    \n",
            "68 \t100   \t[ 702. 1176.]    \t[1559.76152023 1443.96121832]  \t[ 10. 300.]      \t[7500. 4500.]    \n",
            "69 \t100   \t[ 702. 1176.]    \t[1559.76152023 1443.96121832]  \t[ 10. 300.]      \t[7500. 4500.]    \n",
            "70 \t100   \t[ 702. 1176.]    \t[1559.76152023 1443.96121832]  \t[ 10. 300.]      \t[7500. 4500.]    \n",
            "71 \t100   \t[ 702. 1176.]    \t[1559.76152023 1443.96121832]  \t[ 10. 300.]      \t[7500. 4500.]    \n",
            "72 \t100   \t[ 702. 1176.]    \t[1559.76152023 1443.96121832]  \t[ 10. 300.]      \t[7500. 4500.]    \n",
            "73 \t100   \t[ 702. 1176.]    \t[1559.76152023 1443.96121832]  \t[ 10. 300.]      \t[7500. 4500.]    \n",
            "74 \t100   \t[ 702. 1176.]    \t[1559.76152023 1443.96121832]  \t[ 10. 300.]      \t[7500. 4500.]    \n",
            "75 \t100   \t[ 702. 1176.]    \t[1559.76152023 1443.96121832]  \t[ 10. 300.]      \t[7500. 4500.]    \n"
          ]
        }
      ]
    },
    {
      "cell_type": "code",
      "source": [
        "# para testes\n",
        "#h.items"
      ],
      "metadata": {
        "id": "DImEvEMKiUi9"
      },
      "execution_count": 109,
      "outputs": []
    },
    {
      "cell_type": "code",
      "source": [
        "# para testes\n",
        "#h.keys"
      ],
      "metadata": {
        "id": "ZKYlukJkiiT8"
      },
      "execution_count": 110,
      "outputs": []
    },
    {
      "cell_type": "markdown",
      "source": [
        "# Melhor solução"
      ],
      "metadata": {
        "id": "OdL3PCwB0nT6"
      }
    },
    {
      "cell_type": "code",
      "source": [
        "# Melhor solução nesta iteração\n",
        "print('Melhor indivíduo: ')\n",
        "print(h[-1])"
      ],
      "metadata": {
        "colab": {
          "base_uri": "https://localhost:8080/"
        },
        "id": "pxUPBPNwvn66",
        "outputId": "ee4387a9-acf7-4e23-eee8-50a80faf670f"
      },
      "execution_count": 36,
      "outputs": [
        {
          "output_type": "stream",
          "name": "stdout",
          "text": [
            "Melhor indivíduo: \n",
            "Individual({8, 9, 5})\n"
          ]
        }
      ]
    },
    {
      "cell_type": "code",
      "source": [
        "funcao_objetivo(h[-1])"
      ],
      "metadata": {
        "colab": {
          "base_uri": "https://localhost:8080/"
        },
        "id": "mffOLuIIfa9r",
        "outputId": "e62a1c66-d271-4f05-f701-5272a0cb54ed"
      },
      "execution_count": 37,
      "outputs": [
        {
          "output_type": "execute_result",
          "data": {
            "text/plain": [
              "(7500.0, 4500.0)"
            ]
          },
          "metadata": {},
          "execution_count": 37
        }
      ]
    },
    {
      "cell_type": "markdown",
      "source": [
        "# Atendimento das restrições e prioridades"
      ],
      "metadata": {
        "id": "aGr4RUnH0ish"
      }
    },
    {
      "cell_type": "code",
      "source": [
        "val_num = 0\n",
        "vol_num = 0\n",
        "new_num = 0\n",
        "urg_num = 0\n",
        "\n",
        "for id in h[-1]:\n",
        "    val_num += int(df_solicitacao[df_solicitacao.id == int(id)]['valor'])\n",
        "    vol_num += int(df_solicitacao[df_solicitacao.id == int(id)]['volume'])\n",
        "    new_num += int(df_solicitacao[df_solicitacao.id == int(id)]['new'])\n",
        "    urg_num += int(df_solicitacao[df_solicitacao.id == int(id)]['urgente'])\n",
        "\n",
        "print(f'numero de clientes novos atendidos {new_num}')\n",
        "print(f'volume transportado                {vol_num}')\n",
        "print(f'valor transportados                {val_num}')\n",
        "print(f'numero de pedidos urgentes         {urg_num}')\n",
        "\n"
      ],
      "metadata": {
        "colab": {
          "base_uri": "https://localhost:8080/"
        },
        "id": "b9Wf2ZYN75gR",
        "outputId": "fac96ba2-ea06-41fd-cbd6-bdfcafd4c077"
      },
      "execution_count": 22,
      "outputs": [
        {
          "output_type": "stream",
          "name": "stdout",
          "text": [
            "numero de clientes novos atendidos 1\n",
            "volume transportado                4500\n",
            "valor transportados                63000\n",
            "numero de pedidos urgentes         2\n"
          ]
        }
      ]
    },
    {
      "cell_type": "code",
      "source": [
        "print(\"(custo , volume)\")\n",
        "funcao_objetivo(h[-1])"
      ],
      "metadata": {
        "colab": {
          "base_uri": "https://localhost:8080/"
        },
        "id": "b0PX7C6lg25g",
        "outputId": "5b7d6244-eef7-4170-b22a-688181b82495"
      },
      "execution_count": 23,
      "outputs": [
        {
          "output_type": "stream",
          "name": "stdout",
          "text": [
            "(custo , volume)\n"
          ]
        },
        {
          "output_type": "execute_result",
          "data": {
            "text/plain": [
              "(7500.0, 4500.0)"
            ]
          },
          "metadata": {},
          "execution_count": 23
        }
      ]
    }
  ]
}